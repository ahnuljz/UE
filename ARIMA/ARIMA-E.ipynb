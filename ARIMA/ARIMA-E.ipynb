{
 "cells": [
  {
   "cell_type": "code",
   "execution_count": null,
   "metadata": {},
   "outputs": [],
   "source": [
    "from statsmodels.tsa.stattools import adfuller\n",
    "from statsmodels.tsa.stattools import kpss\n",
    "\n",
    "def adf_test(timeseries):\n",
    "    print(\"Results of Dickey-Fuller Test:\")\n",
    "    dftest = adfuller(timeseries, autolag=\"AIC\")\n",
    "    dfoutput = pd.Series(\n",
    "        dftest[0:4],\n",
    "        index=[\n",
    "            \"Test Statistic\",\n",
    "            \"p-value\",\n",
    "            \"#Lags Used\",\n",
    "            \"Number of Observations Used\",\n",
    "        ],\n",
    "    )\n",
    "    for key, value in dftest[4].items():\n",
    "        dfoutput[\"Critical Value (%s)\" % key] = value\n",
    "    print(dfoutput)\n",
    "\n",
    "def kpss_test(timeseries):\n",
    "    print(\"Results of KPSS Test:\")\n",
    "    kpsstest = kpss(timeseries, regression=\"c\", nlags=\"auto\")\n",
    "    kpss_output = pd.Series(\n",
    "        kpsstest[0:3], index=[\"Test Statistic\", \"p-value\", \"Lags Used\"]\n",
    "    )\n",
    "    for key, value in kpsstest[3].items():\n",
    "        kpss_output[\"Critical Value (%s)\" % key] = value\n",
    "    print(kpss_output)\n",
    "\n",
    "def adf_test2(timeseries):\n",
    "    dftest = adfuller(timeseries, autolag=\"BIC\")\n",
    "    return dftest[1:2][0]\n",
    "\n",
    "def kpss_test2(timeseries):\n",
    "    kpsstest = kpss(timeseries, regression=\"c\", nlags=\"auto\")\n",
    "    return kpsstest[1:2][0]"
   ]
  },
  {
   "cell_type": "code",
   "execution_count": null,
   "metadata": {},
   "outputs": [],
   "source": [
    "import pandas as pd\n",
    "import warnings\n",
    "warnings.filterwarnings(\"ignore\")\n",
    "\n",
    "df = pd.read_excel('D:/ee-composite/src/sqlserver/data/CCD/Data_ccd.xlsx')\n",
    "results = pd.DataFrame(columns=['dd0_p1','dd0_p2','dd1_p1', 'dd1_p2', 'dd2_p1', 'dd2_p2'])\n",
    "\n",
    "for i in range(1,42):\n",
    "    dd0 = df.query('sn=='+str(i)).loc[:,['year','E']].set_index('year')\n",
    "    dd1 = dd0.diff(1).dropna()\n",
    "    dd2 = dd1.diff(1).dropna()\n",
    "    dd3 = dd2.diff(1).dropna()\n",
    "    tmp = pd.DataFrame([[adf_test2(dd3), kpss_test2(dd3),adf_test2(dd1),kpss_test2(dd1),adf_test2(dd2),kpss_test2(dd2)]],\n",
    "            columns=['dd0_p1','dd0_p2','dd1_p1', 'dd1_p2', 'dd2_p1', 'dd2_p2'])\n",
    "    results=results.append(tmp, ignore_index=True)\n",
    "\n",
    "print(results)\n",
    "results.to_excel('ARIMA_ADF_KPSS_P_E2.xlsx', sheet_name='平稳检测')\n"
   ]
  },
  {
   "cell_type": "code",
   "execution_count": 2,
   "metadata": {},
   "outputs": [
    {
     "data": {
      "text/plain": [
       "<Figure size 1152x720 with 0 Axes>"
      ]
     },
     "metadata": {},
     "output_type": "display_data"
    },
    {
     "data": {
      "text/plain": [
       "<Figure size 1152x720 with 0 Axes>"
      ]
     },
     "metadata": {},
     "output_type": "display_data"
    },
    {
     "data": {
      "text/plain": [
       "<Figure size 1152x720 with 0 Axes>"
      ]
     },
     "metadata": {},
     "output_type": "display_data"
    },
    {
     "data": {
      "text/plain": [
       "<Figure size 1152x720 with 0 Axes>"
      ]
     },
     "metadata": {},
     "output_type": "display_data"
    },
    {
     "data": {
      "text/plain": [
       "<Figure size 1152x720 with 0 Axes>"
      ]
     },
     "metadata": {},
     "output_type": "display_data"
    },
    {
     "data": {
      "image/png": "[encoded data removed]",
      "text/plain": [
       "<Figure size 1152x720 with 12 Axes>"
      ]
     },
     "metadata": {
      "needs_background": "light"
     },
     "output_type": "display_data"
    }
   ],
   "source": [
    "import numpy as np\n",
    "import pandas as pd\n",
    "from math import sqrt\n",
    "import matplotlib.pyplot as plt\n",
    "import statsmodels.api as sm\n",
    "from statsmodels.graphics.tsaplots import plot_predict\n",
    "from statsmodels.tsa.arima.model import ARIMA\n",
    "from sklearn.metrics import mean_squared_error\n",
    "import warnings\n",
    "warnings.filterwarnings(\"ignore\")\n",
    "\n",
    "#width，height，列数,行数,中文1英文0,文件序号,子图序号,当前行，当前列\n",
    "FX,FY,NC,NR,CN,NN,index,row,col,fontx = [16,10,4,3,1,0,0,0,0,9]     #PPT 多图 display 4*3\n",
    "# FX,FY,NC,NR,CN,NN,index,row,col,fontx = [19,9.5,6,3,1,0,0,0,0,9]    #PPT display 6*3\n",
    "# FX,FY,NC,NR,CN,NN,index,row,col,fontx = [16,21.33,6,8,0,0,0,0,0,7]    #单图 \n",
    "EXT,DPI = ['png',300]  # eps svg pdf jpg png\n",
    "fig,ax =  plt.subplots(figsize=(FX,FY),ncols=NC,nrows=NR,sharex=False,sharey=False)\n",
    "xxx = np.linspace(0, 1, 100)   #分别代表最小，最大，数量， 生成一个等差数列\n",
    "indexs = ['01','02','03','04','05','06','07','08','09','10','11','12',\n",
    "            '13','14','15','16','17','18','19','20','21','22','23','24',\n",
    "            '25','26','27','28','29','30','31','32','33','34','35','36',\n",
    "            '37','38','39','40','41','a1','a2','a3','b1','b2','b3','c1']\n",
    "dates = pd.date_range(\"1985-1-1\", freq=\"Y\", periods=36)\n",
    "pdindex = pd.Index(sm.tsa.datetools.dates_from_range('1985','2020'))\n",
    "bestcolumns = ['i','city','p','d','q','mse']\n",
    "bestdf = pd.DataFrame(columns=bestcolumns)\n",
    "# print(dates)\n",
    "\n",
    "\n",
    "# evaluate an ARIMA model for a given order (p,d,q)\n",
    "def evaluate_arima_model(X, arima_order):\n",
    "    # prepare training dataset\n",
    "    train_size = int(len(X) * 0.66)\n",
    "    train, test = X[0:train_size], X[train_size:]\n",
    "    history = [x for x in train]\n",
    "    # make predictions\n",
    "    predictions = list()\n",
    "    for t in range(len(test)):\n",
    "        model = ARIMA(history, order=arima_order)\n",
    "        model_fit = model.fit()\n",
    "        yhat = model_fit.forecast()[0]\n",
    "        predictions.append(yhat)\n",
    "        history.append(test[t])\n",
    "    # calculate out of sample error\n",
    "    rmse = sqrt(mean_squared_error(test, predictions))\n",
    "    return rmse\n",
    " \n",
    "# evaluate combinations of p, d and q values for an ARIMA model\n",
    "def evaluate_models(dataset, p_values, d_values, q_values):\n",
    "    dataset = dataset.astype('float32')\n",
    "    best_score, best_cfg = float(\"inf\"), None\n",
    "    for p in p_values:\n",
    "        for d in d_values:\n",
    "            for q in q_values:\n",
    "                order = (p,d,q)\n",
    "                try:\n",
    "                    rmse = evaluate_arima_model(dataset, order)\n",
    "                    if rmse < best_score:\n",
    "                        best_score, best_cfg = rmse, order\n",
    "                    print('ARIMA%s RMSE=%.4f' % (order,rmse))\n",
    "                except:\n",
    "                    continue\n",
    "    print('Best ARIMA%s RMSE=%.4f' % (best_cfg, best_score))\n",
    "    return (best_cfg, best_score)\n",
    "\n",
    "def fig_clear(cn=CN):\n",
    "    plt.clf()\n",
    "    global NN,fig,ax\n",
    "    fontname = 'SimHei' if cn>0 else 'Arial'\n",
    "    plt.rcParams['font.sans-serif'] = [fontname]\n",
    "    plt.rcParams['axes.unicode_minus'] = False\n",
    "    fig,ax =  plt.subplots(figsize=(FX,FY),ncols=NC,nrows=NR,sharex=True,sharey=True)\n",
    "    plt.tight_layout()\n",
    "    plt.subplots_adjust(wspace=0, hspace=0)\n",
    "    NN +=1\n",
    "\n",
    "def plot_cell(y,lbl,isEnding=0):\n",
    "    global index, row, col, ax, bestdf\n",
    "    index2 = index if index<NC*NR else (index % (NC*NR))\n",
    "    row = index2 // NC\n",
    "    col = index2 % NC\n",
    "    axx = ax[row][col]\n",
    "    # print(index,index2,row,col)\n",
    "\n",
    "    # p_values = [0, 1, 2, 4, 6, 8, 10]\n",
    "    # d_values = range(0, 3)\n",
    "    # q_values = range(0, 3)\n",
    "    # best_cfg, best_score = evaluate_models(y.values, p_values, d_values, q_values)\n",
    "    best_pdqline = best_pdq.query('city==\"'+lbl+'\"').values[0][3:6]\n",
    "    p,d,q = best_pdqline\n",
    "    best_score = best_pdq.at[0,'mse']\n",
    "\n",
    "    besttmpdata = {'i':index,'city':lbl,'p':p,'d':d,'q':q,'mse':best_score}\n",
    "    besttmp = pd.DataFrame(data=besttmpdata,index=[0],columns=bestcolumns)\n",
    "    bestdf = bestdf.append(besttmp,ignore_index=True)\n",
    "\n",
    "    model = ARIMA(y, order=(p,d,q))  \n",
    "    fitted = model.fit()\n",
    "\n",
    "    # fc = fitted.get_prediction(start=36,end=45)\n",
    "    fc = fitted.get_prediction(start=d,end=45,dynamic=False)\n",
    "    predicted = fc.predicted_mean\n",
    "    intervals = fc.conf_int()\n",
    "    # print(predicted,intervals)\n",
    "\n",
    "    leftmean = fc.predicted_mean[:15].mean()\n",
    "    pos1 = 0.65 if leftmean<0.5 else 0.15\n",
    "    pos2 = 0.58 if leftmean<0.5 else 0.08\n",
    "    pos0 = 0.08\n",
    "\n",
    "    axx.tick_params(which='both',direction='in', length=3)\n",
    "    axx.text(pos0,pos1,r'$ARIMA({:.0f},{:.0f},{:.0f})$'.format(p,d,q),transform = axx.transAxes, fontsize=fontx,zorder=999)\n",
    "    axx.text(pos0,pos2,r'$MSE={:.4f}$'.format(best_score),transform = axx.transAxes, fontsize=fontx,zorder=999)\n",
    "    axx.text(0.97,0.965, indexs[index], fontsize='12',fontweight='bold',\n",
    "                        horizontalalignment='right',verticalalignment='top',\n",
    "                        transform = axx.transAxes,backgroundcolor='lightgray',\n",
    "                        fontfamily='sans-serif',zorder=100)\n",
    "                        \n",
    "    L1, = axx.plot(predicted.index,predicted,'o-',color='tab:red',label='Prediction',lw=1.5,markeredgecolor ='none',markersize=4)\n",
    "    L2, = axx.plot(y.index,y,'o-',color='tab:blue',label='Observation('+lbl+')',lw=1,markeredgecolor ='none',markersize=4,alpha=1)\n",
    "    axx.fill_between(intervals.index[1:], intervals.iloc[1:, 0], intervals.iloc[1:, 1], color='tab:red', alpha=.2)\n",
    "    axx.legend(handles=[L2, L1], loc=\"upper left\", ncol=1)\n",
    "\n",
    "    index +=1\n",
    "    if (row==NR-1 and col==NC-1) or isEnding==1:\n",
    "        # plt.setp(ax[:, :], xlim=[1984, 2031])\n",
    "        plt.setp(ax[:, :], ylim=[0, 1])\n",
    "        plt.setp(ax[-1, :], xlabel='Year')\n",
    "        plt.setp(ax[:, 0], ylabel='EEQ')\n",
    "        plt.savefig(fname=\"year-E-\"+str(DPI)+\"-\"+str(NN)+'.'+EXT,format=EXT, dpi=DPI,pad_inches=0,transparent=True,facecolor='w')\n",
    "        fig_clear(CN)\n",
    "\n",
    "\n",
    "## prepare data\n",
    "df = pd.read_excel('D:/ee-composite/src/sqlserver/data/CCD/Data_ccd.xlsx')\n",
    "best_pdq = pd.read_excel('D:/ee-composite/src/sqlserver/arima/E_best_p_d_q_mse.xlsx')\n",
    "fig_clear(CN)\n",
    "\n",
    "######### Citys\n",
    "for i in range(1,42,1):\n",
    "    tmp = df.query('sn=='+str(i)).set_index(pdindex)\n",
    "    # print(tmp)\n",
    "    lbl = tmp.iat[0,4] if CN>0 else tmp.iat[0,3]\n",
    "    plot_cell(tmp['E'],lbl)\n",
    "\n",
    "######### Provinces\n",
    "for i,item in enumerate(['Anhui','Jiangsu','Zhejiang']):\n",
    "    tmp = df.query('province==\"'+ item +'\"').groupby(by='year').mean().set_index(pdindex)\n",
    "    lbl = item\n",
    "    plot_cell(tmp['E'],lbl)\n",
    "    \n",
    "######### City types   \n",
    "for i,item in enumerate(['Magecity','Super city','Large city']):\n",
    "    tmp = df.query('classid=='+str(i+1)).groupby(by='year').mean().set_index(pdindex)\n",
    "    plot_cell(tmp['E'],item)\n",
    "\n",
    "######### study area\n",
    "tmp = df.groupby(by='year').mean().set_index(pdindex)\n",
    "plot_cell(tmp['E'],'Study Area',isEnding=1)\n",
    "\n",
    "# bestdf.to_excel('E_best_p_d_q_mse.xlsx', sheet_name='best')"
   ]
  }
 ],
 "metadata": {
  "interpreter": {
   "hash": "a8f61be024eba58adef938c9aa1e29e02cb3dece83a5348b1a2dafd16a070453"
  },
  "kernelspec": {
   "display_name": "Python 3.8.8 64-bit ('base': conda)",
   "language": "python",
   "name": "python3"
  },
  "language_info": {
   "codemirror_mode": {
    "name": "ipython",
    "version": 3
   },
   "file_extension": ".py",
   "mimetype": "text/x-python",
   "name": "python",
   "nbconvert_exporter": "python",
   "pygments_lexer": "ipython3",
   "version": "3.8.12"
  },
  "orig_nbformat": 4
 },
 "nbformat": 4,
 "nbformat_minor": 2
}
